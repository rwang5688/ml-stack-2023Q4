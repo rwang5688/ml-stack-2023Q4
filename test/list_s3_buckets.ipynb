{
 "cells": [
  {
   "cell_type": "code",
   "execution_count": null,
   "metadata": {},
   "outputs": [],
   "source": [
    "    print('\\nStarting list_s3_buckets.ipynb ...')\n",
    "\n",
    "    # We would normally set these via config file or env vars\n",
    "    # Hard coding these to keep the demo simple\n",
    "    # profile_name = 'default'\n",
    "    region_name = 'us-west-2'"
   ]
  },
  {
   "cell_type": "code",
   "execution_count": null,
   "metadata": {},
   "outputs": [],
   "source": [
    "%pip install boto3\n",
    "import logging\n",
    "import boto3\n",
    "from botocore.exceptions import ClientError"
   ]
  },
  {
   "cell_type": "code",
   "execution_count": null,
   "metadata": {},
   "outputs": [],
   "source": [
    "    print('get_s3_client: profile_name=%s, region_name=%s' % (profile_name, region_name))\n",
    "\n",
    "    # session = boto3.Session(profile_name=profile_name)\n",
    "    session = boto3.Session()\n",
    "    s3 = session.client('s3',\n",
    "        region_name=region_name)"
   ]
  },
  {
   "cell_type": "code",
   "execution_count": null,
   "metadata": {},
   "outputs": [],
   "source": [
    "    s3_bucket_names = []\n",
    "\n",
    "    if s3 is None:\n",
    "        print('get_s3_bucket_names: Failed to get s3 client.')\n",
    "\n",
    "    try:\n",
    "        response = s3.list_buckets()\n",
    "        print('DEBUG: get_s3_bucket_names: s3.list_buckets() response: %s' % (response))\n",
    "        if 'Buckets' in response:\n",
    "            for bucket in response['Buckets']:\n",
    "                s3_bucket_names.append(bucket['Name'])\n",
    "        \n",
    "    except ClientError as e:\n",
    "        logging.error(\"get_s3_bucket_names: unexpected error: \")\n",
    "        logging.exception(e)"
   ]
  },
  {
   "cell_type": "code",
   "execution_count": null,
   "metadata": {},
   "outputs": [],
   "source": [
    "    num_s3_bucket_names = len(s3_bucket_names)\n",
    "\n",
    "    print(\"s3_bucket_names: \")\n",
    "    print(s3_bucket_names)\n",
    "    print(\"Total # of S3 Buckets: %d\" % num_s3_bucket_names)\n",
    "\n",
    "    print('\\n... Thaaat\\'s all, Folks!')"
   ]
  }
 ],
 "metadata": {
  "kernelspec": {
   "display_name": "Python 3.10.5 64-bit",
   "language": "python",
   "name": "python3"
  },
  "language_info": {
   "codemirror_mode": {
    "name": "ipython",
    "version": 3
   },
   "file_extension": ".py",
   "mimetype": "text/x-python",
   "name": "python",
   "nbconvert_exporter": "python",
   "pygments_lexer": "ipython3",
   "version": "3.10.5"
  },
  "orig_nbformat": 4,
  "vscode": {
   "interpreter": {
    "hash": "369f2c481f4da34e4445cda3fffd2e751bd1c4d706f27375911949ba6bb62e1c"
   }
  }
 },
 "nbformat": 4,
 "nbformat_minor": 2
}
